{
  "cells": [
    {
      "metadata": {
        "_uuid": "d1fc7cecca2b908e752f014cf1589c93862b12b9",
        "_cell_guid": "de7ae396-e225-5c82-3045-390046874da7",
        "trusted": false,
        "collapsed": true
      },
      "cell_type": "code",
      "source": "%matplotlib inline\n\nimport numpy as np\nimport matplotlib.pyplot as plt\nimport seaborn as sns\nimport pandas as pd\nimport sqlite3\nimport numpy as np\nfrom numpy import random\n\n#load data (make sure you have downloaded database.sqlite)\nwith sqlite3.connect('../input/database.sqlite') as con:\n    countries = pd.read_sql_query(\"SELECT * from Country\", con)\n    matches = pd.read_sql_query(\"SELECT * from Match\", con)\n    leagues = pd.read_sql_query(\"SELECT * from League\", con)\n    teams = pd.read_sql_query(\"SELECT * from Team\", con)",
      "execution_count": null,
      "outputs": []
    },
    {
      "metadata": {
        "_uuid": "ee64d4818a69e3ed400c2595c172edccbe2e8517",
        "_cell_guid": "55559473-ecc7-b333-e0f5-185b5b85cc38",
        "trusted": false,
        "collapsed": true
      },
      "cell_type": "code",
      "source": "#select relevant countries and merge with leagues\n\nselected_countries = ['England','France','Germany','Italy','Spain']\n\ncountries = countries[countries.name.isin(selected_countries)]\n\nleagues = countries.merge(leagues,on='id',suffixes=('', '_y'))",
      "execution_count": null,
      "outputs": []
    },
    {
      "metadata": {
        "_uuid": "63e5646efc875e223e92fc0350e85fa11a4ebb5f",
        "_cell_guid": "5956e544-c24c-f3a8-a342-689ee41fb04f",
        "trusted": false,
        "collapsed": true
      },
      "cell_type": "code",
      "source": "#select relevant fields\n\nmatches = matches[matches.league_id.isin(leagues.id)]\n\nmatches = matches[['id', 'country_id' ,'league_id', 'season', 'stage', 'date','match_api_id', 'home_team_api_id', 'away_team_api_id','B365H', 'B365D' ,'B365A']]\n\nmatches.dropna(inplace=True)\n\nmatches.head()",
      "execution_count": null,
      "outputs": []
    },
    {
      "metadata": {
        "_uuid": "0b51c14c94800df5169303a486bddb37ad2cdf82",
        "_cell_guid": "2c7c9222-1bce-7f64-85e0-1657eda8e286",
        "trusted": false,
        "collapsed": true
      },
      "cell_type": "code",
      "source": "from scipy.stats import entropy\n\n\n\ndef match_entropy(row):\n\n    odds = [row['B365H'],row['B365D'],row['B365A']]\n\n    #change odds to probability\n\n    probs = [1/o for o in odds]\n\n    #normalize to sum to 1\n\n    norm = sum(probs)\n\n    probs = [p/norm for p in probs]\n\n    return entropy(probs)\n\n\n\n#compute match entropy\n\nmatches['entropy'] = matches.apply(match_entropy,axis=1)",
      "execution_count": null,
      "outputs": []
    },
    {
      "metadata": {
        "_uuid": "b71720dbc7fc548ba86458195eb2a1362a2bb829",
        "_cell_guid": "9bffe3a1-7232-c026-367e-edae93f07b1d",
        "trusted": false,
        "collapsed": true
      },
      "cell_type": "code",
      "source": "#compute mean entropy for every league in every season\n\nentropy_means = matches.groupby(('season','league_id')).entropy.mean()\n\nentropy_means = entropy_means.reset_index().pivot(index='season', columns='league_id', values='entropy')\n\nentropy_means.columns = [leagues[leagues.id==x].name.values[0] for x in entropy_means.columns]\n\nentropy_means.head(10)",
      "execution_count": null,
      "outputs": []
    },
    {
      "metadata": {
        "_uuid": "3e868679dedfc4d68d679365ff341e541824dc72",
        "_cell_guid": "adce55bd-a726-c3d4-bff0-3a27c71f350b",
        "trusted": false,
        "collapsed": true
      },
      "cell_type": "code",
      "source": "#plot graph\nax = entropy_means.plot(figsize=(12,8),marker='o')\n\n#set title\nplt.title('Leagues Predictability', fontsize=16)\n\n#set ticks roatation\nplt.xticks(rotation=50)\n\n#keep colors for next graph\ncolors = [x.get_color() for x in ax.get_lines()]\ncolors_mapping = dict(zip(leagues.id,colors))\n\n#remove x label\nax.set_xlabel('')\n\n#locate legend \nplt.legend(loc='lower left')\n\n#add arrows\nax.annotate('', xytext=(7.2, 1),xy=(7.2, 1.039),\n            arrowprops=dict(facecolor='black',arrowstyle=\"->, head_length=.7, head_width=.3\",linewidth=1), annotation_clip=False)\n\nax.annotate('', xytext=(7.2, 0.96),xy=(7.2, 0.921),\n            arrowprops=dict(facecolor='black',arrowstyle=\"->, head_length=.7, head_width=.3\",linewidth=1), annotation_clip=False)\n\nax.annotate('less predictable', xy=(7.3, 1.028), annotation_clip=False,fontsize=14,rotation='vertical')\nax.annotate('more predictable', xy=(7.3, 0.952), annotation_clip=False,fontsize=14,rotation='vertical')\n",
      "execution_count": null,
      "outputs": []
    },
    {
      "metadata": {
        "_uuid": "ca45a683b2ae31c777111388dd95b957147437e2",
        "_cell_guid": "486cf53b-8447-1d26-a971-cf5c33a6194a",
        "trusted": false,
        "collapsed": true
      },
      "cell_type": "code",
      "source": "from matplotlib.lines import Line2D\n\n\nbarcelona = teams[teams.team_long_name=='Barcelona'].team_api_id.values[0]\noffsets = [-0.16,-0.08,0,0.08,0.16]\noffsets_mapping = dict(zip(colors_mapping.keys(),offsets))\ny = []\nx = []\nc = []\n\ni = -1\nfor season,season_df in matches.groupby('season'):\n    i+=1\n    for team,name in zip(teams.team_api_id,teams.team_long_name):\n        team_df = season_df[(season_df.home_team_api_id==team)|(season_df.away_team_api_id==team)]\n        team_entropy = team_df.entropy.mean()\n        if team_entropy>0:\n            league_id = team_df.league_id.values[0]\n            x.append(i+offsets_mapping[league_id])\n            y.append(team_entropy)\n            c.append(colors_mapping[league_id])\n\nplt.figure(figsize=(16,8))\nplt.scatter(x,y,color=c,s=[60]*len(x))\nplt.title('Teams Predictability', fontsize=16)\n\n#create ticks and labels\nax = plt.gca()\nplt.xlim((-0.5,7.5))\nplt.xticks(np.arange(0,8,1),rotation=50)\n\n#create grid\nax.set_xticklabels(entropy_means.index,fontsize=12)\nfor i in range(7):\n    ax.axvline(x=0.5+i,ls='--',c='w')\nax.yaxis.grid(False)\nax.xaxis.grid(False)\n\n#create legend\ncircles = []\nlabels = []\nfor league_id,name in zip(leagues.id,leagues.name):\n    labels.append(name)\n    circles.append(Line2D([0], [0], linestyle=\"none\", marker=\"o\", markersize=8, markerfacecolor=colors_mapping[league_id]))\nplt.legend(circles, labels, numpoints=3, loc=(0.005,0.02))\n\n#add arrows\nax.annotate('', xytext=(7.65, 0.93),xy=(7.65, 1.1),\n            arrowprops=dict(facecolor='black',arrowstyle=\"->, head_length=.7, head_width=.3\",linewidth=1), annotation_clip=False)\n\nax.annotate('', xytext=(7.65, 0.77),xy=(7.65, 0.6),\n            arrowprops=dict(facecolor='black',arrowstyle=\"->, head_length=.7, head_width=.3\",linewidth=1), annotation_clip=False)\n\nax.annotate('less predictable', xy=(7.75, 1.05), annotation_clip=False,fontsize=14,rotation='vertical')\nax.annotate('more predictable', xy=(7.75, 0.73), annotation_clip=False,fontsize=14,rotation='vertical')\n\n#add labels\nax.annotate('Barcelona', xy=(6.55, 0.634),fontsize=9)\nax.annotate('B. Munich', xy=(6.5, 0.655),fontsize=9)\nax.annotate('Real Madrid', xy=(6.51, 0.731),fontsize=9)\nax.annotate('PSG', xy=(6.93, 0.78),fontsize=9)\n\n",
      "execution_count": null,
      "outputs": []
    },
    {
      "metadata": {
        "collapsed": true,
        "_uuid": "7ea65b9f5521aca923dbde7d0c79fea0bd62cae8",
        "_cell_guid": "cdb17be3-abf6-50fd-9cb0-02aeb6ee61ab",
        "trusted": false
      },
      "cell_type": "code",
      "source": "",
      "execution_count": null,
      "outputs": []
    }
  ],
  "metadata": {
    "kernelspec": {
      "display_name": "Python 3",
      "language": "python",
      "name": "python3"
    },
    "_change_revision": 0,
    "_is_fork": false,
    "language_info": {
      "name": "python",
      "version": "3.6.3",
      "mimetype": "text/x-python",
      "codemirror_mode": {
        "name": "ipython",
        "version": 3
      },
      "pygments_lexer": "ipython3",
      "nbconvert_exporter": "python",
      "file_extension": ".py"
    }
  },
  "nbformat": 4,
  "nbformat_minor": 1
}